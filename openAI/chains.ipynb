{
 "cells": [
  {
   "cell_type": "markdown",
   "id": "cea07084",
   "metadata": {},
   "source": [
    "-------------------------------------------\n",
    "Chains in LangChain\n",
    "Outline-->\n",
    "\n",
    "1.LLMChain\n",
    "2.Sequential Chains\n",
    "3.SimpleSequentialChain\n",
    "4.SequentialChain\n",
    "5.Router Chain\n",
    "==================="
   ]
  },
  {
   "cell_type": "code",
   "execution_count": 1,
   "id": "992ea098",
   "metadata": {},
   "outputs": [
    {
     "data": {
      "text/plain": [
       "True"
      ]
     },
     "execution_count": 1,
     "metadata": {},
     "output_type": "execute_result"
    }
   ],
   "source": [
    "import os\n",
    "import warnings\n",
    "warnings.filterwarnings('ignore')\n",
    "from dotenv import load_dotenv, find_dotenv\n",
    "\n",
    "load_dotenv(dotenv_path=r\"C:\\Users\\hasan\\Rafi_SAA\\python_practices\\LLM_Langchain\\llm_openai\\.env\")\n"
   ]
  },
  {
   "cell_type": "code",
   "execution_count": null,
   "id": "1db0ebb6",
   "metadata": {},
   "outputs": [],
   "source": [
    "from langchain.chat_models import ChatOpenAI\n",
    "from langchain.prompts import ChatPromptTemplate\n",
    "from langchain.chains import LLMChain"
   ]
  },
  {
   "cell_type": "markdown",
   "id": "6cfa2703",
   "metadata": {},
   "source": [
    "---------------------------\n",
    "Simple LLM chain\n",
    "==================="
   ]
  },
  {
   "cell_type": "code",
   "execution_count": null,
   "id": "785cca2e",
   "metadata": {},
   "outputs": [],
   "source": [
    "chat = ChatOpenAI(\n",
    "    model=\"openai/gpt-4o\",\n",
    "    openai_api_key=os.getenv(\"GPT_github_access_token\"),\n",
    "    openai_api_base=\"https://models.github.ai/inference\"\n",
    "\n",
    ")"
   ]
  },
  {
   "cell_type": "code",
   "execution_count": 6,
   "id": "79919967",
   "metadata": {},
   "outputs": [],
   "source": [
    "prompt = ChatPromptTemplate.from_template(\"What is a good name for a company that makes {product}?\")"
   ]
  },
  {
   "cell_type": "code",
   "execution_count": null,
   "id": "a023adfc",
   "metadata": {},
   "outputs": [],
   "source": [
    "chain = LLMChain(llm=chat, prompt=prompt)"
   ]
  },
  {
   "cell_type": "code",
   "execution_count": null,
   "id": "c2df6909",
   "metadata": {},
   "outputs": [],
   "source": [
    "product  = \"sports shoes\"\n",
    "chain.run(product)"
   ]
  },
  {
   "cell_type": "code",
   "execution_count": 30,
   "id": "fe2388ad",
   "metadata": {},
   "outputs": [],
   "source": [
    "skin_tone = \"light\"\n",
    "body_type = \"skinny\"\n",
    "available_clothes = \"t-shirts, jeans, sneakers, jackets, hats, scarves, belts, sunglasses, watches, gown, ties, blazers, skirts\"\n",
    "available_clothes = \"\".join(available_clothes)\n"
   ]
  },
  {
   "cell_type": "code",
   "execution_count": 34,
   "id": "ccc655e8",
   "metadata": {},
   "outputs": [],
   "source": [
    "prompt_fashion = ChatPromptTemplate.from_template(\"You are a fashion expert. Suggest short note for type of clothing based on the :{available_clothes}, my {skin_tone} skin tone , {body_type} body type.\")\n"
   ]
  },
  {
   "cell_type": "code",
   "execution_count": 35,
   "id": "1fbb7cd4",
   "metadata": {},
   "outputs": [
    {
     "name": "stdout",
     "output_type": "stream",
     "text": [
      "Here’s a concise fashion guide tailored to your light skin tone and skinny body type:\n",
      "\n",
      "1. **T-Shirts**: Opt for slim or fitted tees in pastel shades, jewel tones, or earthy colors to complement your skin. Vertical stripes or subtle patterns can add dimension.  \n",
      "2. **Jeans**: Skinny or slim-fit jeans work well to enhance your proportions. Light-wash, dark-wash, or distressed denim adds versatility.  \n",
      "3. **Sneakers**: Classic white sneakers or neutral shades are versatile, while pops of color add fun to casual looks.  \n",
      "4. **Jackets**: Lightweight bomber jackets, cropped jackets, or tailored blazers in neutral or muted tones flatter your frame.  \n",
      "5. **Hats**: Choose fedora, beanie, or baseball caps in earthy or pastel shades to suit your complexion.  \n",
      "6. **Scarves**: Lightweight scarves in soft fabrics and muted patterns add a chic touch without overwhelming your frame.  \n",
      "7. **Belts**: Slim belts in neutral colors or metallic finishes define your waist and add polish.  \n",
      "8. **Sunglasses**: Go for aviators, round frames, or cat-eye styles that suit your facial structure and add elegance.  \n",
      "9. **Watches**: Minimalist designs with slim straps in silver, gold, or rose gold complement your skin tone.  \n",
      "10. **Gown**: Flowing, A-line, or sheath gowns in soft pastels, champagne, or jewel tones enhance your silhouette.  \n",
      "11. **Ties**: Slim ties in solid colors or subtle patterns create a sleek, modern look.  \n",
      "12. **Blazers**: Tailored blazers with structured shoulders in light neutrals or classic navy elevate your outfit.  \n",
      "13. **Skirts**: Pencil, A-line, or midi skirts in soft fabrics and muted tones flatter your figure.  \n",
      "\n",
      "Keep your choices sleek, tailored, and in shades that enhance your natural tone for a polished, stylish look!\n"
     ]
    }
   ],
   "source": [
    "chain2 = LLMChain(llm= chat, prompt= prompt_fashion)\n",
    "result2 = chain2.run({\n",
    "    \"available_clothes\": available_clothes,\n",
    "    \"skin_tone\": skin_tone,\n",
    "    \"body_type\": body_type\n",
    "})\n",
    "print(result2)\n"
   ]
  },
  {
   "cell_type": "code",
   "execution_count": null,
   "id": "2cdf2577",
   "metadata": {},
   "outputs": [],
   "source": [
    "print(result2)"
   ]
  },
  {
   "cell_type": "markdown",
   "id": "bb04e95b",
   "metadata": {},
   "source": [
    "-------------------------------------\n",
    "simple sequential Chain\n",
    "========================="
   ]
  },
  {
   "cell_type": "code",
   "execution_count": 11,
   "id": "f53e0ddd",
   "metadata": {},
   "outputs": [],
   "source": [
    "from langchain.chains import SimpleSequentialChain\n",
    "# Simple LLM chain"
   ]
  },
  {
   "cell_type": "code",
   "execution_count": 23,
   "id": "b28183f2",
   "metadata": {},
   "outputs": [
    {
     "name": "stdout",
     "output_type": "stream",
     "text": [
      "t-shirts, jeans, sneakers, jackets, hats, scarves, belts, sunglasses, watches, gown, ties, blazers, skirts\n"
     ]
    }
   ],
   "source": [
    "body_type = \"athletic\"\n",
    "available_clothes = \"t-shirts, jeans, sneakers, jackets, hats, scarves, belts, sunglasses, watches, gown, ties, blazers, skirts\"\n",
    "available_clothes = \"\".join(available_clothes)\n",
    "print(available_clothes)"
   ]
  },
  {
   "cell_type": "code",
   "execution_count": 24,
   "id": "2edcc3f7",
   "metadata": {},
   "outputs": [],
   "source": [
    "# first prompt template\n",
    "prompt1 = ChatPromptTemplate.from_template(\"You are a fashion expert. Suggest a type of clothing based on the body type: {body_type}\")\n",
    "\n",
    "#chain1\n",
    "chain1 = LLMChain(llm= chat, prompt = prompt1, output_key = \"clothing_suggestion\")"
   ]
  },
  {
   "cell_type": "code",
   "execution_count": 25,
   "id": "af4db8d5",
   "metadata": {},
   "outputs": [],
   "source": [
    "\n",
    "prompt2 = ChatPromptTemplate.from_template(\n",
    "    \"You are a fashion expert. Based on your suggestion and my {available_clothes}, make a suggestion. \"\n",
    "    \"If no clothes are available, then suggest from your suggestion.\"\n",
    ")\n",
    "\n",
    "chain2 = LLMChain(llm= chat, prompt = prompt2)\n"
   ]
  },
  {
   "cell_type": "code",
   "execution_count": null,
   "id": "f56e77a4",
   "metadata": {},
   "outputs": [
    {
     "name": "stdout",
     "output_type": "stream",
     "text": [
      "t-shirts, jeans, sneakers, jackets, hats, scarves, belts, sunglasses, watches, gown, ties, blazers, skirts\n"
     ]
    }
   ],
   "source": [
    "# prompt2.format(available_clothes=available_clothes)\n",
    "# print(available_clothes)"
   ]
  },
  {
   "cell_type": "code",
   "execution_count": 26,
   "id": "fcf54f3a",
   "metadata": {},
   "outputs": [],
   "source": [
    "overall_chain = SimpleSequentialChain(chains = [chain1, chain2], verbose = True)"
   ]
  },
  {
   "cell_type": "code",
   "execution_count": 28,
   "id": "ef0bed13",
   "metadata": {},
   "outputs": [
    {
     "name": "stdout",
     "output_type": "stream",
     "text": [
      "\n",
      "\n",
      "\u001b[1m> Entering new SimpleSequentialChain chain...\u001b[0m\n",
      "\u001b[36;1m\u001b[1;3mFor an athletic body type, the goal is often to create the illusion of curves and balance your naturally toned and straight silhouette. Here are some clothing suggestions that work well for athletic builds:\n",
      "\n",
      "### Tops:\n",
      "- **Peplum Tops:** Add volume to the waist and create a curvier appearance.\n",
      "- **Wrap Tops:** Accentuate the waist and add a feminine shape.\n",
      "- **Off-the-Shoulder Tops:** Highlight your shoulders and create softness.\n",
      "- **Ruffled or Draped Details:** Add volume to your upper body.\n",
      "\n",
      "### Bottoms:\n",
      "- **High-Waisted Jeans or Pants:** Define your waist and create curves.\n",
      "- **Wide-Leg Trousers or Palazzo Pants:** Balance a straight silhouette with flowy, voluminous bottoms.\n",
      "- **A-Line Skirts:** Give the illusion of hips and add femininity.\n",
      "- **Paper Bag-Waist Pants:** Add emphasis to your waist and create shape.\n",
      "\n",
      "### Dresses:\n",
      "- **Fit-and-Flare Dresses:** Highlight your toned upper body and add volume to your lower half.\n",
      "- **Bodycon Dresses:** Show off your athletic shape if you want to embrace it.\n",
      "- **Wrap Dresses:** Cinch the waist and add curves.\n",
      "- **One-Shoulder Dresses:** Highlight your strong shoulders.\n",
      "\n",
      "### Outerwear:\n",
      "- **Structured Blazers:** Add definition and highlight your athletic frame.\n",
      "- **Cropped Jackets:** Show off your waist and flatter your shape.\n",
      "- **Trench Coats with Belts:** Accentuate your waistline.\n",
      "\n",
      "### Fabrics and Patterns:\n",
      "- **Soft, Flowing Fabrics:** Add balance to your structured, athletic build.\n",
      "- **Bold Prints and Patterns:** Draw attention to areas where you'd like to add volume.\n",
      "- **Ruching and Draping:** Add softness and texture.\n",
      "\n",
      "### Accessories:\n",
      "- **Belts:** Define your waist and emphasize curves.\n",
      "- **Statement Necklaces or Earrings:** Draw attention upwards to your face and shoulders.\n",
      "\n",
      "The key is to celebrate your toned physique while adding balance and softness through strategic details and cuts.\u001b[0m\n",
      "\u001b[33;1m\u001b[1;3mFor an athletic body type, the goal is to celebrate your naturally toned frame while adding balance and curves through strategic styling. If you’re looking for a suggestion based on the curated list above, I’d recommend starting with **wrap dresses**. Here's why:\n",
      "\n",
      "### Wrap Dresses:\n",
      "- They cinch at the waist, creating the illusion of curves.\n",
      "- They emphasize your strong shoulders and toned arms while softening your silhouette.\n",
      "- They’re universally flattering and versatile for both casual and formal occasions.\n",
      "\n",
      "If a wrap dress isn’t available, the next best option would be **high-waisted jeans or pants** paired with a **peplum top**. This combination defines your waist, adds volume where needed, and creates a balanced look.\n",
      "\n",
      "Let me know if you'd like help with styling or accessorizing the look!\u001b[0m\n",
      "\n",
      "\u001b[1m> Finished chain.\u001b[0m\n",
      "For an athletic body type, the goal is to celebrate your naturally toned frame while adding balance and curves through strategic styling. If you’re looking for a suggestion based on the curated list above, I’d recommend starting with **wrap dresses**. Here's why:\n",
      "\n",
      "### Wrap Dresses:\n",
      "- They cinch at the waist, creating the illusion of curves.\n",
      "- They emphasize your strong shoulders and toned arms while softening your silhouette.\n",
      "- They’re universally flattering and versatile for both casual and formal occasions.\n",
      "\n",
      "If a wrap dress isn’t available, the next best option would be **high-waisted jeans or pants** paired with a **peplum top**. This combination defines your waist, adds volume where needed, and creates a balanced look.\n",
      "\n",
      "Let me know if you'd like help with styling or accessorizing the look!\n"
     ]
    }
   ],
   "source": [
    "result  = overall_chain.run(body_type)\n",
    "print(result)"
   ]
  },
  {
   "cell_type": "markdown",
   "id": "f34dcd85",
   "metadata": {},
   "source": [
    "utilizing weather data from api to give as prompt to LLM"
   ]
  },
  {
   "cell_type": "code",
   "execution_count": 36,
   "id": "06882bc5",
   "metadata": {},
   "outputs": [],
   "source": [
    "import requests"
   ]
  },
  {
   "cell_type": "code",
   "execution_count": 50,
   "id": "8240d7de",
   "metadata": {},
   "outputs": [],
   "source": [
    "# 1. Fetch weather data dynamically\n",
    "load_dotenv(dotenv_path=r\"C:\\Users\\hasan\\Rafi_SAA\\python_practices\\LLM_Langchain\\llm_openai\\.env\")\n",
    "base_url = \"https://api.weatherapi.com/v1\"\n",
    "def forecast_weather(city):\n",
    "    api_key = os.getenv(\"weather_api_key\")\n",
    "    url = f\"{base_url}/forecast.json?key={api_key}&q={city}&days=1&aqi=no&alerts=no\"\n",
    "    data = requests.get(url).json()\n",
    "    print(data)\n",
    "    return data\n",
    "    # forecast = data[\"forecast\"][\"forecastday\"][0][\"day\"]\n",
    "    # condition = forecast[\"condition\"][\"text\"]\n",
    "    # avg_temp = forecast[\"avgtemp_c\"]\n",
    "    # return f\"{condition.lower()}, around {avg_temp}°C\""
   ]
  },
  {
   "cell_type": "code",
   "execution_count": 38,
   "id": "17021b63",
   "metadata": {},
   "outputs": [],
   "source": [
    "prompt_fashion_new = ChatPromptTemplate.from_template(\"\"\"\n",
    "You are a fashion expert.\n",
    "Suggest a type of clothing suitable for the weather in {city} ({weather_info}),\n",
    "considering that I have these clothes: {available_clothes},\n",
    "my skin tone is {skin_tone},\n",
    "and my body type is {body_type}.\n",
    "\"\"\")"
   ]
  },
  {
   "cell_type": "code",
   "execution_count": 51,
   "id": "883fa36c",
   "metadata": {},
   "outputs": [
    {
     "name": "stdout",
     "output_type": "stream",
     "text": [
      "{'location': {'name': 'Barcelona', 'region': 'Catalonia', 'country': 'Spain', 'lat': 41.3833, 'lon': 2.1833, 'tz_id': 'Europe/Madrid', 'localtime_epoch': 1760780617, 'localtime': '2025-10-18 11:43'}, 'current': {'last_updated_epoch': 1760779800, 'last_updated': '2025-10-18 11:30', 'temp_c': 19.2, 'temp_f': 66.6, 'is_day': 1, 'condition': {'text': 'Sunny', 'icon': '//cdn.weatherapi.com/weather/64x64/day/113.png', 'code': 1000}, 'wind_mph': 4.3, 'wind_kph': 6.8, 'wind_degree': 94, 'wind_dir': 'E', 'pressure_mb': 1020.0, 'pressure_in': 30.12, 'precip_mm': 0.0, 'precip_in': 0.0, 'humidity': 83, 'cloud': 25, 'feelslike_c': 19.2, 'feelslike_f': 66.6, 'windchill_c': 20.1, 'windchill_f': 68.2, 'heatindex_c': 20.1, 'heatindex_f': 68.2, 'dewpoint_c': 14.8, 'dewpoint_f': 58.7, 'vis_km': 10.0, 'vis_miles': 6.0, 'uv': 1.5, 'gust_mph': 4.9, 'gust_kph': 7.9, 'short_rad': 185.54, 'diff_rad': 53.73, 'dni': 868.63, 'gti': 0.0}, 'forecast': {'forecastday': [{'date': '2025-10-18', 'date_epoch': 1760745600, 'day': {'maxtemp_c': 20.9, 'maxtemp_f': 69.7, 'mintemp_c': 18.2, 'mintemp_f': 64.8, 'avgtemp_c': 19.7, 'avgtemp_f': 67.5, 'maxwind_mph': 6.3, 'maxwind_kph': 10.1, 'totalprecip_mm': 1.23, 'totalprecip_in': 0.05, 'totalsnow_cm': 0.0, 'avgvis_km': 9.9, 'avgvis_miles': 6.0, 'avghumidity': 73, 'daily_will_it_rain': 1, 'daily_chance_of_rain': 89, 'daily_will_it_snow': 0, 'daily_chance_of_snow': 0, 'condition': {'text': 'Patchy rain nearby', 'icon': '//cdn.weatherapi.com/weather/64x64/day/176.png', 'code': 1063}, 'uv': 0.8}, 'astro': {'sunrise': '08:07 AM', 'sunset': '07:06 PM', 'moonrise': '04:59 AM', 'moonset': '05:44 PM', 'moon_phase': 'Waning Crescent', 'moon_illumination': 11, 'is_moon_up': 0, 'is_sun_up': 0}, 'hour': [{'time_epoch': 1760738400, 'time': '2025-10-18 00:00', 'temp_c': 19.3, 'temp_f': 66.8, 'is_day': 0, 'condition': {'text': 'Patchy rain nearby', 'icon': '//cdn.weatherapi.com/weather/64x64/night/176.png', 'code': 1063}, 'wind_mph': 1.8, 'wind_kph': 2.9, 'wind_degree': 46, 'wind_dir': 'NE', 'pressure_mb': 1019.0, 'pressure_in': 30.1, 'precip_mm': 0.5, 'precip_in': 0.02, 'snow_cm': 0.0, 'humidity': 76, 'cloud': 77, 'feelslike_c': 19.3, 'feelslike_f': 66.8, 'windchill_c': 19.3, 'windchill_f': 66.8, 'heatindex_c': 19.3, 'heatindex_f': 66.8, 'dewpoint_c': 14.9, 'dewpoint_f': 58.9, 'will_it_rain': 1, 'chance_of_rain': 100, 'will_it_snow': 0, 'chance_of_snow': 0, 'vis_km': 9.0, 'vis_miles': 5.0, 'gust_mph': 2.4, 'gust_kph': 3.9, 'uv': 0, 'short_rad': 0, 'diff_rad': 0, 'dni': 0, 'gti': 0}, {'time_epoch': 1760742000, 'time': '2025-10-18 01:00', 'temp_c': 18.9, 'temp_f': 65.9, 'is_day': 0, 'condition': {'text': 'Patchy rain nearby', 'icon': '//cdn.weatherapi.com/weather/64x64/night/176.png', 'code': 1063}, 'wind_mph': 2.2, 'wind_kph': 3.6, 'wind_degree': 25, 'wind_dir': 'NNE', 'pressure_mb': 1019.0, 'pressure_in': 30.09, 'precip_mm': 0.09, 'precip_in': 0.0, 'snow_cm': 0.0, 'humidity': 78, 'cloud': 84, 'feelslike_c': 18.9, 'feelslike_f': 65.9, 'windchill_c': 18.9, 'windchill_f': 65.9, 'heatindex_c': 18.9, 'heatindex_f': 65.9, 'dewpoint_c': 14.9, 'dewpoint_f': 58.7, 'will_it_rain': 1, 'chance_of_rain': 100, 'will_it_snow': 0, 'chance_of_snow': 0, 'vis_km': 10.0, 'vis_miles': 6.0, 'gust_mph': 3.2, 'gust_kph': 5.1, 'uv': 0, 'short_rad': 0, 'diff_rad': 0, 'dni': 0, 'gti': 0}, {'time_epoch': 1760745600, 'time': '2025-10-18 02:00', 'temp_c': 18.9, 'temp_f': 66.0, 'is_day': 0, 'condition': {'text': 'Clear ', 'icon': '//cdn.weatherapi.com/weather/64x64/night/113.png', 'code': 1000}, 'wind_mph': 2.0, 'wind_kph': 3.2, 'wind_degree': 24, 'wind_dir': 'NNE', 'pressure_mb': 1019.0, 'pressure_in': 30.09, 'precip_mm': 0.0, 'precip_in': 0.0, 'snow_cm': 0.0, 'humidity': 77, 'cloud': 22, 'feelslike_c': 18.9, 'feelslike_f': 66.0, 'windchill_c': 18.9, 'windchill_f': 66.0, 'heatindex_c': 18.9, 'heatindex_f': 66.0, 'dewpoint_c': 14.8, 'dewpoint_f': 58.6, 'will_it_rain': 0, 'chance_of_rain': 0, 'will_it_snow': 0, 'chance_of_snow': 0, 'vis_km': 10.0, 'vis_miles': 6.0, 'gust_mph': 2.8, 'gust_kph': 4.6, 'uv': 0, 'short_rad': 0, 'diff_rad': 0, 'dni': 0, 'gti': 0}, {'time_epoch': 1760749200, 'time': '2025-10-18 03:00', 'temp_c': 18.8, 'temp_f': 65.8, 'is_day': 0, 'condition': {'text': 'Patchy rain nearby', 'icon': '//cdn.weatherapi.com/weather/64x64/night/176.png', 'code': 1063}, 'wind_mph': 2.2, 'wind_kph': 3.6, 'wind_degree': 25, 'wind_dir': 'NNE', 'pressure_mb': 1019.0, 'pressure_in': 30.09, 'precip_mm': 0.03, 'precip_in': 0.0, 'snow_cm': 0.0, 'humidity': 77, 'cloud': 70, 'feelslike_c': 18.8, 'feelslike_f': 65.8, 'windchill_c': 18.8, 'windchill_f': 65.8, 'heatindex_c': 18.8, 'heatindex_f': 65.8, 'dewpoint_c': 14.7, 'dewpoint_f': 58.4, 'will_it_rain': 1, 'chance_of_rain': 88, 'will_it_snow': 0, 'chance_of_snow': 0, 'vis_km': 10.0, 'vis_miles': 6.0, 'gust_mph': 3.1, 'gust_kph': 5.0, 'uv': 0, 'short_rad': 0, 'diff_rad': 0, 'dni': 0, 'gti': 0}, {'time_epoch': 1760752800, 'time': '2025-10-18 04:00', 'temp_c': 18.5, 'temp_f': 65.3, 'is_day': 0, 'condition': {'text': 'Patchy rain nearby', 'icon': '//cdn.weatherapi.com/weather/64x64/night/176.png', 'code': 1063}, 'wind_mph': 2.9, 'wind_kph': 4.7, 'wind_degree': 23, 'wind_dir': 'NNE', 'pressure_mb': 1019.0, 'pressure_in': 30.09, 'precip_mm': 0.15, 'precip_in': 0.01, 'snow_cm': 0.0, 'humidity': 78, 'cloud': 76, 'feelslike_c': 18.5, 'feelslike_f': 65.3, 'windchill_c': 18.5, 'windchill_f': 65.3, 'heatindex_c': 18.5, 'heatindex_f': 65.3, 'dewpoint_c': 14.6, 'dewpoint_f': 58.3, 'will_it_rain': 1, 'chance_of_rain': 100, 'will_it_snow': 0, 'chance_of_snow': 0, 'vis_km': 10.0, 'vis_miles': 6.0, 'gust_mph': 4.2, 'gust_kph': 6.7, 'uv': 0, 'short_rad': 0, 'diff_rad': 0, 'dni': 0, 'gti': 0}, {'time_epoch': 1760756400, 'time': '2025-10-18 05:00', 'temp_c': 18.4, 'temp_f': 65.2, 'is_day': 0, 'condition': {'text': 'Patchy rain nearby', 'icon': '//cdn.weatherapi.com/weather/64x64/night/176.png', 'code': 1063}, 'wind_mph': 3.6, 'wind_kph': 5.8, 'wind_degree': 26, 'wind_dir': 'NNE', 'pressure_mb': 1019.0, 'pressure_in': 30.09, 'precip_mm': 0.04, 'precip_in': 0.0, 'snow_cm': 0.0, 'humidity': 78, 'cloud': 84, 'feelslike_c': 18.5, 'feelslike_f': 65.2, 'windchill_c': 18.5, 'windchill_f': 65.2, 'heatindex_c': 18.5, 'heatindex_f': 65.2, 'dewpoint_c': 14.6, 'dewpoint_f': 58.2, 'will_it_rain': 1, 'chance_of_rain': 77, 'will_it_snow': 0, 'chance_of_snow': 0, 'vis_km': 10.0, 'vis_miles': 6.0, 'gust_mph': 5.1, 'gust_kph': 8.2, 'uv': 0, 'short_rad': 0, 'diff_rad': 0, 'dni': 0, 'gti': 0}, {'time_epoch': 1760760000, 'time': '2025-10-18 06:00', 'temp_c': 18.3, 'temp_f': 64.9, 'is_day': 0, 'condition': {'text': 'Patchy rain nearby', 'icon': '//cdn.weatherapi.com/weather/64x64/night/176.png', 'code': 1063}, 'wind_mph': 3.4, 'wind_kph': 5.4, 'wind_degree': 31, 'wind_dir': 'NNE', 'pressure_mb': 1019.0, 'pressure_in': 30.09, 'precip_mm': 0.02, 'precip_in': 0.0, 'snow_cm': 0.0, 'humidity': 78, 'cloud': 72, 'feelslike_c': 18.3, 'feelslike_f': 64.9, 'windchill_c': 18.3, 'windchill_f': 64.9, 'heatindex_c': 18.3, 'heatindex_f': 64.9, 'dewpoint_c': 14.5, 'dewpoint_f': 58.0, 'will_it_rain': 1, 'chance_of_rain': 89, 'will_it_snow': 0, 'chance_of_snow': 0, 'vis_km': 10.0, 'vis_miles': 6.0, 'gust_mph': 4.8, 'gust_kph': 7.7, 'uv': 0, 'short_rad': 0, 'diff_rad': 0, 'dni': 0, 'gti': 0}, {'time_epoch': 1760763600, 'time': '2025-10-18 07:00', 'temp_c': 18.2, 'temp_f': 64.8, 'is_day': 0, 'condition': {'text': 'Clear ', 'icon': '//cdn.weatherapi.com/weather/64x64/night/113.png', 'code': 1000}, 'wind_mph': 3.6, 'wind_kph': 5.8, 'wind_degree': 38, 'wind_dir': 'NE', 'pressure_mb': 1019.0, 'pressure_in': 30.1, 'precip_mm': 0.0, 'precip_in': 0.0, 'snow_cm': 0.0, 'humidity': 79, 'cloud': 10, 'feelslike_c': 18.2, 'feelslike_f': 64.8, 'windchill_c': 18.2, 'windchill_f': 64.8, 'heatindex_c': 18.2, 'heatindex_f': 64.8, 'dewpoint_c': 14.5, 'dewpoint_f': 58.0, 'will_it_rain': 0, 'chance_of_rain': 0, 'will_it_snow': 0, 'chance_of_snow': 0, 'vis_km': 10.0, 'vis_miles': 6.0, 'gust_mph': 5.1, 'gust_kph': 8.1, 'uv': 0, 'short_rad': 0, 'diff_rad': 0, 'dni': 0, 'gti': 0}, {'time_epoch': 1760767200, 'time': '2025-10-18 08:00', 'temp_c': 18.5, 'temp_f': 65.2, 'is_day': 0, 'condition': {'text': 'Clear ', 'icon': '//cdn.weatherapi.com/weather/64x64/night/113.png', 'code': 1000}, 'wind_mph': 3.8, 'wind_kph': 6.1, 'wind_degree': 40, 'wind_dir': 'NE', 'pressure_mb': 1020.0, 'pressure_in': 30.12, 'precip_mm': 0.0, 'precip_in': 0.0, 'snow_cm': 0.0, 'humidity': 78, 'cloud': 14, 'feelslike_c': 18.5, 'feelslike_f': 65.2, 'windchill_c': 18.5, 'windchill_f': 65.2, 'heatindex_c': 18.5, 'heatindex_f': 65.2, 'dewpoint_c': 14.5, 'dewpoint_f': 58.1, 'will_it_rain': 0, 'chance_of_rain': 0, 'will_it_snow': 0, 'chance_of_snow': 0, 'vis_km': 10.0, 'vis_miles': 6.0, 'gust_mph': 5.1, 'gust_kph': 8.1, 'uv': 0, 'short_rad': 0, 'diff_rad': 0, 'dni': 0, 'gti': 0}, {'time_epoch': 1760770800, 'time': '2025-10-18 09:00', 'temp_c': 19.0, 'temp_f': 66.2, 'is_day': 1, 'condition': {'text': 'Sunny', 'icon': '//cdn.weatherapi.com/weather/64x64/day/113.png', 'code': 1000}, 'wind_mph': 3.8, 'wind_kph': 6.1, 'wind_degree': 49, 'wind_dir': 'NE', 'pressure_mb': 1021.0, 'pressure_in': 30.14, 'precip_mm': 0.0, 'precip_in': 0.0, 'snow_cm': 0.0, 'humidity': 76, 'cloud': 16, 'feelslike_c': 19.0, 'feelslike_f': 66.2, 'windchill_c': 19.0, 'windchill_f': 66.2, 'heatindex_c': 19.0, 'heatindex_f': 66.2, 'dewpoint_c': 14.6, 'dewpoint_f': 58.2, 'will_it_rain': 0, 'chance_of_rain': 0, 'will_it_snow': 0, 'chance_of_snow': 0, 'vis_km': 10.0, 'vis_miles': 6.0, 'gust_mph': 4.6, 'gust_kph': 7.5, 'uv': 0.1, 'short_rad': 31.34, 'diff_rad': 14.66, 'dni': 0.0, 'gti': 13.62}, {'time_epoch': 1760774400, 'time': '2025-10-18 10:00', 'temp_c': 19.6, 'temp_f': 67.2, 'is_day': 1, 'condition': {'text': 'Patchy rain nearby', 'icon': '//cdn.weatherapi.com/weather/64x64/day/176.png', 'code': 1063}, 'wind_mph': 3.8, 'wind_kph': 6.1, 'wind_degree': 69, 'wind_dir': 'ENE', 'pressure_mb': 1021.0, 'pressure_in': 30.15, 'precip_mm': 0.01, 'precip_in': 0.0, 'snow_cm': 0.0, 'humidity': 73, 'cloud': 87, 'feelslike_c': 19.6, 'feelslike_f': 67.2, 'windchill_c': 19.6, 'windchill_f': 67.2, 'heatindex_c': 19.6, 'heatindex_f': 67.2, 'dewpoint_c': 14.7, 'dewpoint_f': 58.4, 'will_it_rain': 1, 'chance_of_rain': 73, 'will_it_snow': 0, 'chance_of_snow': 0, 'vis_km': 10.0, 'vis_miles': 6.0, 'gust_mph': 4.4, 'gust_kph': 7.1, 'uv': 0.6, 'short_rad': 105.88, 'diff_rad': 37.01, 'dni': 0.0, 'gti': 35.03}, {'time_epoch': 1760778000, 'time': '2025-10-18 11:00', 'temp_c': 19.2, 'temp_f': 66.6, 'is_day': 1, 'condition': {'text': 'Sunny', 'icon': '//cdn.weatherapi.com/weather/64x64/day/113.png', 'code': 1000}, 'wind_mph': 4.3, 'wind_kph': 6.8, 'wind_degree': 94, 'wind_dir': 'E', 'pressure_mb': 1020.0, 'pressure_in': 30.12, 'precip_mm': 0.0, 'precip_in': 0.0, 'snow_cm': 0.0, 'humidity': 83, 'cloud': 25, 'feelslike_c': 20.1, 'feelslike_f': 68.2, 'windchill_c': 20.1, 'windchill_f': 68.2, 'heatindex_c': 20.1, 'heatindex_f': 68.2, 'dewpoint_c': 14.8, 'dewpoint_f': 58.7, 'will_it_rain': 0, 'chance_of_rain': 0, 'will_it_snow': 0, 'chance_of_snow': 0, 'vis_km': 10.0, 'vis_miles': 6.0, 'gust_mph': 4.9, 'gust_kph': 7.9, 'uv': 1.5, 'short_rad': 185.54, 'diff_rad': 53.73, 'dni': 868.63, 'gti': 0.0}, {'time_epoch': 1760781600, 'time': '2025-10-18 12:00', 'temp_c': 20.5, 'temp_f': 68.9, 'is_day': 1, 'condition': {'text': 'Patchy rain nearby', 'icon': '//cdn.weatherapi.com/weather/64x64/day/176.png', 'code': 1063}, 'wind_mph': 4.3, 'wind_kph': 6.8, 'wind_degree': 108, 'wind_dir': 'ESE', 'pressure_mb': 1021.0, 'pressure_in': 30.14, 'precip_mm': 0.17, 'precip_in': 0.01, 'snow_cm': 0.0, 'humidity': 70, 'cloud': 89, 'feelslike_c': 20.5, 'feelslike_f': 68.9, 'windchill_c': 20.5, 'windchill_f': 68.9, 'heatindex_c': 20.5, 'heatindex_f': 68.9, 'dewpoint_c': 14.9, 'dewpoint_f': 58.7, 'will_it_rain': 1, 'chance_of_rain': 100, 'will_it_snow': 0, 'chance_of_snow': 0, 'vis_km': 9.0, 'vis_miles': 5.0, 'gust_mph': 4.9, 'gust_kph': 8.0, 'uv': 2.5, 'short_rad': 259.48, 'diff_rad': 65.88, 'dni': 602.44, 'gti': 6.45}, {'time_epoch': 1760785200, 'time': '2025-10-18 13:00', 'temp_c': 20.8, 'temp_f': 69.5, 'is_day': 1, 'condition': {'text': 'Sunny', 'icon': '//cdn.weatherapi.com/weather/64x64/day/113.png', 'code': 1000}, 'wind_mph': 5.4, 'wind_kph': 8.6, 'wind_degree': 127, 'wind_dir': 'SE', 'pressure_mb': 1020.0, 'pressure_in': 30.12, 'precip_mm': 0.0, 'precip_in': 0.0, 'snow_cm': 0.0, 'humidity': 69, 'cloud': 14, 'feelslike_c': 20.8, 'feelslike_f': 69.5, 'windchill_c': 20.8, 'windchill_f': 69.5, 'heatindex_c': 20.8, 'heatindex_f': 69.5, 'dewpoint_c': 14.8, 'dewpoint_f': 58.7, 'will_it_rain': 0, 'chance_of_rain': 0, 'will_it_snow': 0, 'chance_of_snow': 0, 'vis_km': 10.0, 'vis_miles': 6.0, 'gust_mph': 6.2, 'gust_kph': 9.9, 'uv': 3.4, 'short_rad': 322.0, 'diff_rad': 74.77, 'dni': 535.83, 'gti': 34.64}, {'time_epoch': 1760788800, 'time': '2025-10-18 14:00', 'temp_c': 20.9, 'temp_f': 69.7, 'is_day': 1, 'condition': {'text': 'Patchy rain nearby', 'icon': '//cdn.weatherapi.com/weather/64x64/day/176.png', 'code': 1063}, 'wind_mph': 5.6, 'wind_kph': 9.0, 'wind_degree': 142, 'wind_dir': 'SE', 'pressure_mb': 1020.0, 'pressure_in': 30.11, 'precip_mm': 0.02, 'precip_in': 0.0, 'snow_cm': 0.0, 'humidity': 68, 'cloud': 77, 'feelslike_c': 20.9, 'feelslike_f': 69.7, 'windchill_c': 20.9, 'windchill_f': 69.7, 'heatindex_c': 20.9, 'heatindex_f': 69.7, 'dewpoint_c': 14.9, 'dewpoint_f': 58.7, 'will_it_rain': 1, 'chance_of_rain': 72, 'will_it_snow': 0, 'chance_of_snow': 0, 'vis_km': 10.0, 'vis_miles': 6.0, 'gust_mph': 6.4, 'gust_kph': 10.4, 'uv': 3.6, 'short_rad': 369.36, 'diff_rad': 81.69, 'dni': 511.59, 'gti': 52.18}, {'time_epoch': 1760792400, 'time': '2025-10-18 15:00', 'temp_c': 20.8, 'temp_f': 69.5, 'is_day': 1, 'condition': {'text': 'Patchy rain nearby', 'icon': '//cdn.weatherapi.com/weather/64x64/day/176.png', 'code': 1063}, 'wind_mph': 5.6, 'wind_kph': 9.0, 'wind_degree': 156, 'wind_dir': 'SSE', 'pressure_mb': 1019.0, 'pressure_in': 30.1, 'precip_mm': 0.01, 'precip_in': 0.0, 'snow_cm': 0.0, 'humidity': 69, 'cloud': 72, 'feelslike_c': 20.8, 'feelslike_f': 69.5, 'windchill_c': 20.8, 'windchill_f': 69.5, 'heatindex_c': 20.8, 'heatindex_f': 69.5, 'dewpoint_c': 14.9, 'dewpoint_f': 58.8, 'will_it_rain': 1, 'chance_of_rain': 82, 'will_it_snow': 0, 'chance_of_snow': 0, 'vis_km': 10.0, 'vis_miles': 6.0, 'gust_mph': 6.4, 'gust_kph': 10.4, 'uv': 3.1, 'short_rad': 541.86, 'diff_rad': 151.98, 'dni': 631.69, 'gti': 116.98}, {'time_epoch': 1760796000, 'time': '2025-10-18 16:00', 'temp_c': 20.8, 'temp_f': 69.4, 'is_day': 1, 'condition': {'text': 'Patchy rain nearby', 'icon': '//cdn.weatherapi.com/weather/64x64/day/176.png', 'code': 1063}, 'wind_mph': 5.4, 'wind_kph': 8.6, 'wind_degree': 171, 'wind_dir': 'S', 'pressure_mb': 1019.0, 'pressure_in': 30.09, 'precip_mm': 0.02, 'precip_in': 0.0, 'snow_cm': 0.0, 'humidity': 69, 'cloud': 71, 'feelslike_c': 20.8, 'feelslike_f': 69.4, 'windchill_c': 20.8, 'windchill_f': 69.4, 'heatindex_c': 20.8, 'heatindex_f': 69.4, 'dewpoint_c': 14.9, 'dewpoint_f': 58.8, 'will_it_rain': 1, 'chance_of_rain': 71, 'will_it_snow': 0, 'chance_of_snow': 0, 'vis_km': 10.0, 'vis_miles': 6.0, 'gust_mph': 6.2, 'gust_kph': 9.9, 'uv': 2.1, 'short_rad': 514.42, 'diff_rad': 140.38, 'dni': 601.02, 'gti': 107.96}, {'time_epoch': 1760799600, 'time': '2025-10-18 17:00', 'temp_c': 20.7, 'temp_f': 69.3, 'is_day': 1, 'condition': {'text': 'Sunny', 'icon': '//cdn.weatherapi.com/weather/64x64/day/113.png', 'code': 1000}, 'wind_mph': 6.0, 'wind_kph': 9.7, 'wind_degree': 173, 'wind_dir': 'S', 'pressure_mb': 1019.0, 'pressure_in': 30.08, 'precip_mm': 0.0, 'precip_in': 0.0, 'snow_cm': 0.0, 'humidity': 69, 'cloud': 9, 'feelslike_c': 20.7, 'feelslike_f': 69.3, 'windchill_c': 20.7, 'windchill_f': 69.3, 'heatindex_c': 20.7, 'heatindex_f': 69.3, 'dewpoint_c': 14.9, 'dewpoint_f': 58.8, 'will_it_rain': 0, 'chance_of_rain': 0, 'will_it_snow': 0, 'chance_of_snow': 0, 'vis_km': 10.0, 'vis_miles': 6.0, 'gust_mph': 7.1, 'gust_kph': 11.5, 'uv': 1.1, 'short_rad': 465.36, 'diff_rad': 129.02, 'dni': 582.56, 'gti': 93.12}, {'time_epoch': 1760803200, 'time': '2025-10-18 18:00', 'temp_c': 20.6, 'temp_f': 69.1, 'is_day': 1, 'condition': {'text': 'Sunny', 'icon': '//cdn.weatherapi.com/weather/64x64/day/113.png', 'code': 1000}, 'wind_mph': 6.0, 'wind_kph': 9.7, 'wind_degree': 187, 'wind_dir': 'S', 'pressure_mb': 1019.0, 'pressure_in': 30.09, 'precip_mm': 0.0, 'precip_in': 0.0, 'snow_cm': 0.0, 'humidity': 70, 'cloud': 13, 'feelslike_c': 20.6, 'feelslike_f': 69.1, 'windchill_c': 20.6, 'windchill_f': 69.1, 'heatindex_c': 20.6, 'heatindex_f': 69.1, 'dewpoint_c': 15.0, 'dewpoint_f': 59.0, 'will_it_rain': 0, 'chance_of_rain': 0, 'will_it_snow': 0, 'chance_of_snow': 0, 'vis_km': 10.0, 'vis_miles': 6.0, 'gust_mph': 7.4, 'gust_kph': 12.0, 'uv': 0.3, 'short_rad': 402.3, 'diff_rad': 113.51, 'dni': 595.09, 'gti': 67.96}, {'time_epoch': 1760806800, 'time': '2025-10-18 19:00', 'temp_c': 20.6, 'temp_f': 69.1, 'is_day': 1, 'condition': {'text': 'Sunny', 'icon': '//cdn.weatherapi.com/weather/64x64/day/113.png', 'code': 1000}, 'wind_mph': 6.3, 'wind_kph': 10.1, 'wind_degree': 206, 'wind_dir': 'SSW', 'pressure_mb': 1019.0, 'pressure_in': 30.1, 'precip_mm': 0.0, 'precip_in': 0.0, 'snow_cm': 0.0, 'humidity': 71, 'cloud': 17, 'feelslike_c': 20.6, 'feelslike_f': 69.1, 'windchill_c': 20.6, 'windchill_f': 69.1, 'heatindex_c': 20.6, 'heatindex_f': 69.1, 'dewpoint_c': 15.1, 'dewpoint_f': 59.1, 'will_it_rain': 0, 'chance_of_rain': 0, 'will_it_snow': 0, 'chance_of_snow': 0, 'vis_km': 10.0, 'vis_miles': 6.0, 'gust_mph': 7.8, 'gust_kph': 12.6, 'uv': 0.0, 'short_rad': 332.24, 'diff_rad': 95.52, 'dni': 671.68, 'gti': 30.01}, {'time_epoch': 1760810400, 'time': '2025-10-18 20:00', 'temp_c': 20.6, 'temp_f': 69.0, 'is_day': 0, 'condition': {'text': 'Clear ', 'icon': '//cdn.weatherapi.com/weather/64x64/night/113.png', 'code': 1000}, 'wind_mph': 5.8, 'wind_kph': 9.4, 'wind_degree': 216, 'wind_dir': 'SW', 'pressure_mb': 1020.0, 'pressure_in': 30.11, 'precip_mm': 0.0, 'precip_in': 0.0, 'snow_cm': 0.0, 'humidity': 71, 'cloud': 19, 'feelslike_c': 20.6, 'feelslike_f': 69.0, 'windchill_c': 20.6, 'windchill_f': 69.0, 'heatindex_c': 20.6, 'heatindex_f': 69.0, 'dewpoint_c': 15.1, 'dewpoint_f': 59.2, 'will_it_rain': 0, 'chance_of_rain': 0, 'will_it_snow': 0, 'chance_of_snow': 0, 'vis_km': 10.0, 'vis_miles': 6.0, 'gust_mph': 7.4, 'gust_kph': 11.8, 'uv': 0, 'short_rad': 0, 'diff_rad': 0, 'dni': 0, 'gti': 0}, {'time_epoch': 1760814000, 'time': '2025-10-18 21:00', 'temp_c': 20.5, 'temp_f': 68.8, 'is_day': 0, 'condition': {'text': 'Partly Cloudy ', 'icon': '//cdn.weatherapi.com/weather/64x64/night/116.png', 'code': 1003}, 'wind_mph': 5.8, 'wind_kph': 9.4, 'wind_degree': 224, 'wind_dir': 'SW', 'pressure_mb': 1020.0, 'pressure_in': 30.12, 'precip_mm': 0.0, 'precip_in': 0.0, 'snow_cm': 0.0, 'humidity': 72, 'cloud': 31, 'feelslike_c': 20.5, 'feelslike_f': 68.8, 'windchill_c': 20.5, 'windchill_f': 68.8, 'heatindex_c': 20.5, 'heatindex_f': 68.8, 'dewpoint_c': 15.2, 'dewpoint_f': 59.4, 'will_it_rain': 0, 'chance_of_rain': 0, 'will_it_snow': 0, 'chance_of_snow': 0, 'vis_km': 10.0, 'vis_miles': 6.0, 'gust_mph': 7.5, 'gust_kph': 12.1, 'uv': 0, 'short_rad': 0, 'diff_rad': 0, 'dni': 0, 'gti': 0}, {'time_epoch': 1760817600, 'time': '2025-10-18 22:00', 'temp_c': 20.3, 'temp_f': 68.6, 'is_day': 0, 'condition': {'text': 'Patchy rain nearby', 'icon': '//cdn.weatherapi.com/weather/64x64/night/176.png', 'code': 1063}, 'wind_mph': 5.1, 'wind_kph': 8.3, 'wind_degree': 227, 'wind_dir': 'SW', 'pressure_mb': 1020.0, 'pressure_in': 30.12, 'precip_mm': 0.03, 'precip_in': 0.0, 'snow_cm': 0.0, 'humidity': 73, 'cloud': 75, 'feelslike_c': 20.3, 'feelslike_f': 68.6, 'windchill_c': 20.3, 'windchill_f': 68.6, 'heatindex_c': 20.3, 'heatindex_f': 68.6, 'dewpoint_c': 15.4, 'dewpoint_f': 59.6, 'will_it_rain': 0, 'chance_of_rain': 70, 'will_it_snow': 0, 'chance_of_snow': 0, 'vis_km': 10.0, 'vis_miles': 6.0, 'gust_mph': 6.7, 'gust_kph': 10.8, 'uv': 0, 'short_rad': 0, 'diff_rad': 0, 'dni': 0, 'gti': 0}, {'time_epoch': 1760821200, 'time': '2025-10-18 23:00', 'temp_c': 20.1, 'temp_f': 68.2, 'is_day': 0, 'condition': {'text': 'Patchy rain nearby', 'icon': '//cdn.weatherapi.com/weather/64x64/night/176.png', 'code': 1063}, 'wind_mph': 5.4, 'wind_kph': 8.6, 'wind_degree': 238, 'wind_dir': 'WSW', 'pressure_mb': 1020.0, 'pressure_in': 30.12, 'precip_mm': 0.14, 'precip_in': 0.01, 'snow_cm': 0.0, 'humidity': 75, 'cloud': 89, 'feelslike_c': 20.1, 'feelslike_f': 68.2, 'windchill_c': 20.1, 'windchill_f': 68.2, 'heatindex_c': 20.1, 'heatindex_f': 68.2, 'dewpoint_c': 15.5, 'dewpoint_f': 60.0, 'will_it_rain': 1, 'chance_of_rain': 100, 'will_it_snow': 0, 'chance_of_snow': 0, 'vis_km': 10.0, 'vis_miles': 6.0, 'gust_mph': 7.1, 'gust_kph': 11.5, 'uv': 0, 'short_rad': 0, 'diff_rad': 0, 'dni': 0, 'gti': 0}]}]}}\n"
     ]
    }
   ],
   "source": [
    "# 3. Call API and run chain\n",
    "weather_info = forecast_weather(\"Barcelona\")\n"
   ]
  },
  {
   "cell_type": "code",
   "execution_count": 52,
   "id": "76c5f5d5",
   "metadata": {},
   "outputs": [],
   "source": [
    "chain = LLMChain(llm=chat, prompt=prompt_fashion_new)"
   ]
  },
  {
   "cell_type": "code",
   "execution_count": 53,
   "id": "d739b796",
   "metadata": {},
   "outputs": [
    {
     "name": "stdout",
     "output_type": "stream",
     "text": [
      "Given the weather in Barcelona on October 18, 2025, with temperatures ranging between 18.2°C (64.8°F) and 20.9°C (69.7°F), and conditions varying between sunny and patchy rain, your wardrobe choices are well-suited. Here's how you can style your outfit to be both comfortable and chic:\n",
      "\n",
      "### Outfit Recommendation:\n",
      "1. **Jeans:**  \n",
      "   Jeans are perfect for this weather, offering warmth during cooler moments while still breathable enough for midday temperatures. Choose a slim or straight-fit style to complement your slim body type.\n",
      "\n",
      "2. **T-Shirt:**  \n",
      "   A simple t-shirt works well as a base layer, especially since the weather is sunny for most of the day. Opt for neutral or earthy tones like beige, olive green, or soft brown to flatter your olive skin tone.\n",
      "\n",
      "3. **Light Jacket:**  \n",
      "   Since there’s a chance of patchy rain and humidity is relatively high, a light jacket is essential. A lightweight bomber or utility jacket in a complementary shade (like khaki, navy, or charcoal gray) will keep you comfortable and stylish.\n",
      "\n",
      "### Styling Tips:\n",
      "- **Footwear:** Wear comfortable sneakers or ankle boots that are water-resistant in case of rain. Keep the tones neutral to match the outfit.\n",
      "- **Accessories:** Carry a compact umbrella for the occasional rain. A crossbody bag or backpack in a muted tone (like tan or black) will complete the look.\n",
      "- **Layering:** If the day warms up, you can easily remove the jacket and tie it around your waist or drape it over your shoulders for a relaxed, trendy vibe.\n",
      "\n",
      "This outfit will ensure you’re practical, stylish, and comfortable for Barcelona's mild weather!\n"
     ]
    }
   ],
   "source": [
    "response = chain.run({\n",
    "    \"city\": \"Barcelona\",\n",
    "    \"weather_info\": weather_info,\n",
    "    \"available_clothes\": \"jeans, t-shirt, light jacket\",\n",
    "    \"skin_tone\": \"olive\",\n",
    "    \"body_type\": \"slim\"\n",
    "})\n",
    "\n",
    "print(response)\n"
   ]
  },
  {
   "cell_type": "code",
   "execution_count": null,
   "id": "f33a8909",
   "metadata": {},
   "outputs": [],
   "source": []
  }
 ],
 "metadata": {
  "kernelspec": {
   "display_name": "llm_openai",
   "language": "python",
   "name": "python3"
  },
  "language_info": {
   "codemirror_mode": {
    "name": "ipython",
    "version": 3
   },
   "file_extension": ".py",
   "mimetype": "text/x-python",
   "name": "python",
   "nbconvert_exporter": "python",
   "pygments_lexer": "ipython3",
   "version": "3.11.9"
  }
 },
 "nbformat": 4,
 "nbformat_minor": 5
}
