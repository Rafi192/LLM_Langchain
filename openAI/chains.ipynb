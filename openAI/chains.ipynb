{
 "cells": [
  {
   "cell_type": "markdown",
   "id": "cea07084",
   "metadata": {},
   "source": [
    "-------------------------------------------\n",
    "Chains in LangChain\n",
    "Outline-->\n",
    "\n",
    "1.LLMChain\n",
    "2.Sequential Chains\n",
    "3.SimpleSequentialChain\n",
    "4.SequentialChain\n",
    "5.Router Chain\n",
    "==================="
   ]
  },
  {
   "cell_type": "code",
   "execution_count": 1,
   "id": "992ea098",
   "metadata": {},
   "outputs": [
    {
     "data": {
      "text/plain": [
       "True"
      ]
     },
     "execution_count": 1,
     "metadata": {},
     "output_type": "execute_result"
    }
   ],
   "source": [
    "import os\n",
    "import warnings\n",
    "warnings.filterwarnings('ignore')\n",
    "from dotenv import load_dotenv, find_dotenv\n",
    "\n",
    "load_dotenv(dotenv_path=r\"C:\\Users\\hasan\\Rafi_SAA\\python_practices\\LLM_Langchain\\llm_openai\\.env\")\n"
   ]
  },
  {
   "cell_type": "code",
   "execution_count": 2,
   "id": "1db0ebb6",
   "metadata": {},
   "outputs": [],
   "source": [
    "from langchain.chat_models import ChatOpenAI\n",
    "from langchain.prompts import ChatPromptTemplate\n",
    "from langchain.chains import LLMChain"
   ]
  },
  {
   "cell_type": "markdown",
   "id": "6cfa2703",
   "metadata": {},
   "source": [
    "---------------------------\n",
    "Simple LLM chain\n",
    "==================="
   ]
  },
  {
   "cell_type": "code",
   "execution_count": null,
   "id": "785cca2e",
   "metadata": {},
   "outputs": [],
   "source": [
    "chat = ChatOpenAI(\n",
    "    model=\"openai/gpt-4o\",\n",
    "    openai_api_key=os.getenv(\"GPT_github_access_token\"),\n",
    "    openai_api_base=\"https://models.github.ai/inference\"\n",
    "\n",
    ")"
   ]
  },
  {
   "cell_type": "code",
   "execution_count": 6,
   "id": "79919967",
   "metadata": {},
   "outputs": [],
   "source": [
    "prompt = ChatPromptTemplate.from_template(\"What is a good name for a company that makes {product}?\")"
   ]
  },
  {
   "cell_type": "code",
   "execution_count": null,
   "id": "a023adfc",
   "metadata": {},
   "outputs": [],
   "source": [
    "chain = LLMChain(llm=chat, prompt=prompt)"
   ]
  },
  {
   "cell_type": "code",
   "execution_count": null,
   "id": "c2df6909",
   "metadata": {},
   "outputs": [],
   "source": [
    "product  = \"sports shoes\"\n",
    "chain.run(product)"
   ]
  },
  {
   "cell_type": "code",
   "execution_count": 30,
   "id": "fe2388ad",
   "metadata": {},
   "outputs": [],
   "source": [
    "skin_tone = \"light\"\n",
    "body_type = \"skinny\"\n",
    "available_clothes = \"t-shirts, jeans, sneakers, jackets, hats, scarves, belts, sunglasses, watches, gown, ties, blazers, skirts\"\n",
    "available_clothes = \"\".join(available_clothes)\n"
   ]
  },
  {
   "cell_type": "code",
   "execution_count": 31,
   "id": "ccc655e8",
   "metadata": {},
   "outputs": [],
   "source": [
    "prompt_fashion = ChatPromptTemplate.from_template(\"You are a fashion expert. Suggest a type of clothing based on the :{available_clothes}, my {skin_tone} skin tone , {body_type} body type.\")\n"
   ]
  },
  {
   "cell_type": "code",
   "execution_count": 33,
   "id": "1fbb7cd4",
   "metadata": {},
   "outputs": [
    {
     "name": "stdout",
     "output_type": "stream",
     "text": [
      "Certainly! Based on your light skin tone and skinny body type, here are some clothing suggestions to flatter your frame and complement your complexion:\n",
      "\n",
      "### **Casual Look**\n",
      "1. **T-Shirts**: Opt for light or pastel-colored t-shirts (like baby blue, blush pink, or light yellow) to complement your skin tone. Slim-fit or tailored styles work well to enhance your frame.\n",
      "2. **Jeans**: Skinny or slim-fit jeans in medium-wash blue or black will elongate your legs and create a sleek silhouette.\n",
      "3. **Sneakers**: Go for classic white sneakers or neutral tones to maintain a clean and stylish appearance.\n",
      "4. **Jackets**: Lightweight bomber jackets or tailored denim jackets in earthy tones or navy blue will add structure without overwhelming your frame.\n",
      "5. **Hats**: A fedora or a classic beanie in neutral tones like beige, gray, or camel would suit your light skin tone beautifully.\n",
      "\n",
      "### **Chic Winter Look**\n",
      "1. **Scarves**: Try chunky knit scarves in warm tones such as burgundy, mustard, or forest green to add texture and color near your face.\n",
      "2. **Belts**: A slim belt in a contrasting color can add definition to your waist and enhance your proportions.\n",
      "3. **Sunglasses**: Aviators or round sunglasses with gold or tortoiseshell frames will look stunning against your light skin tone.\n",
      "4. **Watches**: A minimalist watch with a light leather strap or metallic accents (like rose gold or silver) will complement your overall vibe.\n",
      "\n",
      "### **Formal Look**\n",
      "1. **Gowns**: Choose gowns with sleek, straight cuts or flowy silhouettes. Light pastel shades or jewel tones (emerald, sapphire, or ruby) will pop beautifully against your complexion.\n",
      "2. **Ties**: For a classic formal look, skinny ties in solid colors or subtle patterns will balance your frame.\n",
      "3. **Blazers**: Single-breasted blazers in tailored cuts are perfect for your slim body type. Opt for muted or neutral colors like gray, navy, or beige.\n",
      "4. **Skirts**: A-line or pencil skirts in comfortable fabrics will highlight your waistline and create an elongated look.\n",
      "\n",
      "### **Key Styling Tips**\n",
      "- Avoid overly baggy or boxy clothing, as they can overwhelm your frame.\n",
      "- Layering can add dimension without bulk—try pairing a fitted t-shirt with a cropped jacket or blazer.\n",
      "- Experiment with accessories like scarves, hats, and sunglasses to elevate your outfits and add personality.\n",
      "- Choose soft or muted shades to enhance your light skin tone, but don’t shy away from bold jewel tones for special occasions!\n",
      "\n",
      "Would you like further advice on specific outfits or combinations?\n"
     ]
    }
   ],
   "source": [
    "chain2 = LLMChain(llm= chat, prompt= prompt_fashion)\n",
    "result2 = chain2.run({\n",
    "    \"available_clothes\": available_clothes,\n",
    "    \"skin_tone\": skin_tone,\n",
    "    \"body_type\": body_type\n",
    "})\n",
    "print(result2)\n"
   ]
  },
  {
   "cell_type": "code",
   "execution_count": null,
   "id": "2cdf2577",
   "metadata": {},
   "outputs": [],
   "source": [
    "print(result2)"
   ]
  },
  {
   "cell_type": "markdown",
   "id": "bb04e95b",
   "metadata": {},
   "source": [
    "-------------------------------------\n",
    "simple sequential Chain\n",
    "========================="
   ]
  },
  {
   "cell_type": "code",
   "execution_count": 11,
   "id": "f53e0ddd",
   "metadata": {},
   "outputs": [],
   "source": [
    "from langchain.chains import SimpleSequentialChain\n",
    "# Simple LLM chain"
   ]
  },
  {
   "cell_type": "code",
   "execution_count": 23,
   "id": "b28183f2",
   "metadata": {},
   "outputs": [
    {
     "name": "stdout",
     "output_type": "stream",
     "text": [
      "t-shirts, jeans, sneakers, jackets, hats, scarves, belts, sunglasses, watches, gown, ties, blazers, skirts\n"
     ]
    }
   ],
   "source": [
    "body_type = \"athletic\"\n",
    "available_clothes = \"t-shirts, jeans, sneakers, jackets, hats, scarves, belts, sunglasses, watches, gown, ties, blazers, skirts\"\n",
    "available_clothes = \"\".join(available_clothes)\n",
    "print(available_clothes)"
   ]
  },
  {
   "cell_type": "code",
   "execution_count": 24,
   "id": "2edcc3f7",
   "metadata": {},
   "outputs": [],
   "source": [
    "# first prompt template\n",
    "prompt1 = ChatPromptTemplate.from_template(\"You are a fashion expert. Suggest a type of clothing based on the body type: {body_type}\")\n",
    "\n",
    "#chain1\n",
    "chain1 = LLMChain(llm= chat, prompt = prompt1, output_key = \"clothing_suggestion\")"
   ]
  },
  {
   "cell_type": "code",
   "execution_count": 25,
   "id": "af4db8d5",
   "metadata": {},
   "outputs": [],
   "source": [
    "\n",
    "prompt2 = ChatPromptTemplate.from_template(\n",
    "    \"You are a fashion expert. Based on your suggestion and my {available_clothes}, make a suggestion. \"\n",
    "    \"If no clothes are available, then suggest from your suggestion.\"\n",
    ")\n",
    "\n",
    "chain2 = LLMChain(llm= chat, prompt = prompt2)\n"
   ]
  },
  {
   "cell_type": "code",
   "execution_count": null,
   "id": "f56e77a4",
   "metadata": {},
   "outputs": [
    {
     "name": "stdout",
     "output_type": "stream",
     "text": [
      "t-shirts, jeans, sneakers, jackets, hats, scarves, belts, sunglasses, watches, gown, ties, blazers, skirts\n"
     ]
    }
   ],
   "source": [
    "# prompt2.format(available_clothes=available_clothes)\n",
    "# print(available_clothes)"
   ]
  },
  {
   "cell_type": "code",
   "execution_count": 26,
   "id": "fcf54f3a",
   "metadata": {},
   "outputs": [],
   "source": [
    "overall_chain = SimpleSequentialChain(chains = [chain1, chain2], verbose = True)"
   ]
  },
  {
   "cell_type": "code",
   "execution_count": 28,
   "id": "ef0bed13",
   "metadata": {},
   "outputs": [
    {
     "name": "stdout",
     "output_type": "stream",
     "text": [
      "\n",
      "\n",
      "\u001b[1m> Entering new SimpleSequentialChain chain...\u001b[0m\n",
      "\u001b[36;1m\u001b[1;3mFor an athletic body type, the goal is often to create the illusion of curves and balance your naturally toned and straight silhouette. Here are some clothing suggestions that work well for athletic builds:\n",
      "\n",
      "### Tops:\n",
      "- **Peplum Tops:** Add volume to the waist and create a curvier appearance.\n",
      "- **Wrap Tops:** Accentuate the waist and add a feminine shape.\n",
      "- **Off-the-Shoulder Tops:** Highlight your shoulders and create softness.\n",
      "- **Ruffled or Draped Details:** Add volume to your upper body.\n",
      "\n",
      "### Bottoms:\n",
      "- **High-Waisted Jeans or Pants:** Define your waist and create curves.\n",
      "- **Wide-Leg Trousers or Palazzo Pants:** Balance a straight silhouette with flowy, voluminous bottoms.\n",
      "- **A-Line Skirts:** Give the illusion of hips and add femininity.\n",
      "- **Paper Bag-Waist Pants:** Add emphasis to your waist and create shape.\n",
      "\n",
      "### Dresses:\n",
      "- **Fit-and-Flare Dresses:** Highlight your toned upper body and add volume to your lower half.\n",
      "- **Bodycon Dresses:** Show off your athletic shape if you want to embrace it.\n",
      "- **Wrap Dresses:** Cinch the waist and add curves.\n",
      "- **One-Shoulder Dresses:** Highlight your strong shoulders.\n",
      "\n",
      "### Outerwear:\n",
      "- **Structured Blazers:** Add definition and highlight your athletic frame.\n",
      "- **Cropped Jackets:** Show off your waist and flatter your shape.\n",
      "- **Trench Coats with Belts:** Accentuate your waistline.\n",
      "\n",
      "### Fabrics and Patterns:\n",
      "- **Soft, Flowing Fabrics:** Add balance to your structured, athletic build.\n",
      "- **Bold Prints and Patterns:** Draw attention to areas where you'd like to add volume.\n",
      "- **Ruching and Draping:** Add softness and texture.\n",
      "\n",
      "### Accessories:\n",
      "- **Belts:** Define your waist and emphasize curves.\n",
      "- **Statement Necklaces or Earrings:** Draw attention upwards to your face and shoulders.\n",
      "\n",
      "The key is to celebrate your toned physique while adding balance and softness through strategic details and cuts.\u001b[0m\n",
      "\u001b[33;1m\u001b[1;3mFor an athletic body type, the goal is to celebrate your naturally toned frame while adding balance and curves through strategic styling. If you’re looking for a suggestion based on the curated list above, I’d recommend starting with **wrap dresses**. Here's why:\n",
      "\n",
      "### Wrap Dresses:\n",
      "- They cinch at the waist, creating the illusion of curves.\n",
      "- They emphasize your strong shoulders and toned arms while softening your silhouette.\n",
      "- They’re universally flattering and versatile for both casual and formal occasions.\n",
      "\n",
      "If a wrap dress isn’t available, the next best option would be **high-waisted jeans or pants** paired with a **peplum top**. This combination defines your waist, adds volume where needed, and creates a balanced look.\n",
      "\n",
      "Let me know if you'd like help with styling or accessorizing the look!\u001b[0m\n",
      "\n",
      "\u001b[1m> Finished chain.\u001b[0m\n",
      "For an athletic body type, the goal is to celebrate your naturally toned frame while adding balance and curves through strategic styling. If you’re looking for a suggestion based on the curated list above, I’d recommend starting with **wrap dresses**. Here's why:\n",
      "\n",
      "### Wrap Dresses:\n",
      "- They cinch at the waist, creating the illusion of curves.\n",
      "- They emphasize your strong shoulders and toned arms while softening your silhouette.\n",
      "- They’re universally flattering and versatile for both casual and formal occasions.\n",
      "\n",
      "If a wrap dress isn’t available, the next best option would be **high-waisted jeans or pants** paired with a **peplum top**. This combination defines your waist, adds volume where needed, and creates a balanced look.\n",
      "\n",
      "Let me know if you'd like help with styling or accessorizing the look!\n"
     ]
    }
   ],
   "source": [
    "result  = overall_chain.run(body_type)\n",
    "print(result)"
   ]
  },
  {
   "cell_type": "code",
   "execution_count": null,
   "id": "06882bc5",
   "metadata": {},
   "outputs": [],
   "source": []
  }
 ],
 "metadata": {
  "kernelspec": {
   "display_name": "llm_openai",
   "language": "python",
   "name": "python3"
  },
  "language_info": {
   "codemirror_mode": {
    "name": "ipython",
    "version": 3
   },
   "file_extension": ".py",
   "mimetype": "text/x-python",
   "name": "python",
   "nbconvert_exporter": "python",
   "pygments_lexer": "ipython3",
   "version": "3.11.9"
  }
 },
 "nbformat": 4,
 "nbformat_minor": 5
}
