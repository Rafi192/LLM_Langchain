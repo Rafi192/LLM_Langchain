{
 "cells": [
  {
   "cell_type": "markdown",
   "id": "1dd6eb74",
   "metadata": {},
   "source": [
    "Prompts\n"
   ]
  },
  {
   "cell_type": "code",
   "execution_count": 1,
   "id": "af9f8768",
   "metadata": {},
   "outputs": [
    {
     "name": "stdout",
     "output_type": "stream",
     "text": [
      "helloo\n"
     ]
    }
   ],
   "source": [
    "print(\"helloo\")"
   ]
  },
  {
   "cell_type": "markdown",
   "id": "2d95fb3b",
   "metadata": {},
   "source": []
  },
  {
   "cell_type": "code",
   "execution_count": 2,
   "id": "c0edfc5e",
   "metadata": {},
   "outputs": [],
   "source": [
    "import os\n",
    "from openai import OpenAI"
   ]
  },
  {
   "cell_type": "code",
   "execution_count": 43,
   "id": "4560e3d4",
   "metadata": {},
   "outputs": [
    {
     "data": {
      "text/plain": [
       "True"
      ]
     },
     "execution_count": 43,
     "metadata": {},
     "output_type": "execute_result"
    }
   ],
   "source": [
    "from dotenv import load_dotenv, find_dotenv\n",
    "load_dotenv(dotenv_path=r\"C:\\Users\\hasan\\Rafi_SAA\\python_practices\\LLM_Langchain\\llm_openai\\.env\")\n"
   ]
  },
  {
   "cell_type": "code",
   "execution_count": 10,
   "id": "da118a6f",
   "metadata": {},
   "outputs": [],
   "source": [
    "client = OpenAI(\n",
    "    base_url=\"https://models.github.ai/inference\",\n",
    "    api_key=os.environ[\"GPT_github_access_token\"],\n",
    ")"
   ]
  },
  {
   "cell_type": "markdown",
   "id": "5b57a4bb",
   "metadata": {},
   "source": [
    "Helper function for promt"
   ]
  },
  {
   "cell_type": "code",
   "execution_count": null,
   "id": "dc51bbf5",
   "metadata": {},
   "outputs": [],
   "source": [
    "def get_completion(prompt, model=\"openai/gpt-4o\"):\n",
    "    messages = [\n",
    "        {\"role\": \"user\", \"content\": prompt}\n",
    "    ]\n",
    "\n",
    "    response = client.chat.completions.create(\n",
    "        model=model,\n",
    "        messages=messages,\n",
    "        temperature=0.3,   # I need to adjust this based on my needs\n",
    "        max_tokens=4096,\n",
    "        top_p=1\n",
    "    )\n",
    "\n",
    "    return response.choices[0].message.content\n"
   ]
  },
  {
   "cell_type": "code",
   "execution_count": 12,
   "id": "e5d2d0c3",
   "metadata": {},
   "outputs": [
    {
     "data": {
      "text/plain": [
       "\"Hello! I'm just a program, so I don't have feelings, but thank you for asking! How can I assist you today? 😊\""
      ]
     },
     "execution_count": 12,
     "metadata": {},
     "output_type": "execute_result"
    }
   ],
   "source": [
    "get_completion(\"Hello, how are you?\")"
   ]
  },
  {
   "cell_type": "code",
   "execution_count": 26,
   "id": "18052c65",
   "metadata": {},
   "outputs": [
    {
     "data": {
      "text/plain": [
       "\"I don’t have memory of past interactions or the ability to recognize individual users. Each conversation starts fresh, so I don’t remember you or anything we've discussed before. However, I'm here to help with any questions or topics you'd like to talk about!\""
      ]
     },
     "execution_count": 26,
     "metadata": {},
     "output_type": "execute_result"
    }
   ],
   "source": [
    "get_completion(\"do you remember me?\")\n"
   ]
  },
  {
   "cell_type": "code",
   "execution_count": 16,
   "id": "3f337f3c",
   "metadata": {},
   "outputs": [],
   "source": [
    "sms = \"hey mate how ya doin today? ya wassaup, been hangin around the table?\"\n"
   ]
  },
  {
   "cell_type": "code",
   "execution_count": 15,
   "id": "7efedf3a",
   "metadata": {},
   "outputs": [],
   "source": [
    "style= \"Convert the following text into a formal tone.\""
   ]
  },
  {
   "cell_type": "code",
   "execution_count": 18,
   "id": "6ea00d01",
   "metadata": {},
   "outputs": [
    {
     "name": "stdout",
     "output_type": "stream",
     "text": [
      "Convert the following text into a formal tone.\n",
      "\n",
      "Text: hey mate how ya doin today? ya wassaup, been hangin around the table?\n"
     ]
    }
   ],
   "source": [
    "prompt = f\"{style}\\n\\nText: {sms}\"\n",
    "print(prompt)"
   ]
  },
  {
   "cell_type": "code",
   "execution_count": 19,
   "id": "f22b2b09",
   "metadata": {},
   "outputs": [
    {
     "data": {
      "text/plain": [
       "'Hello, how are you doing today? What’s going on? Have you been spending time around the table?'"
      ]
     },
     "execution_count": 19,
     "metadata": {},
     "output_type": "execute_result"
    }
   ],
   "source": [
    "get_completion(prompt)"
   ]
  },
  {
   "cell_type": "markdown",
   "id": "377c858b",
   "metadata": {},
   "source": [
    "--------------------------------------\n",
    "\n",
    "Now let's see how we cna generate the responses using langchain\n",
    "\n",
    "-----------------------"
   ]
  },
  {
   "cell_type": "code",
   "execution_count": 22,
   "id": "6d972073",
   "metadata": {},
   "outputs": [
    {
     "data": {
      "text/plain": [
       "<openai.OpenAI at 0x18bd8140cd0>"
      ]
     },
     "execution_count": 22,
     "metadata": {},
     "output_type": "execute_result"
    }
   ],
   "source": [
    "client"
   ]
  },
  {
   "cell_type": "code",
   "execution_count": 39,
   "id": "2c6b1989",
   "metadata": {},
   "outputs": [],
   "source": [
    "from langchain_community.chat_models import ChatOpenAI"
   ]
  },
  {
   "cell_type": "code",
   "execution_count": null,
   "id": "49246cba",
   "metadata": {},
   "outputs": [
    {
     "data": {
      "text/plain": [
       "False"
      ]
     },
     "execution_count": 42,
     "metadata": {},
     "output_type": "execute_result"
    }
   ],
   "source": [
    "# load_dotenv(find_dotenv())"
   ]
  },
  {
   "cell_type": "code",
   "execution_count": null,
   "id": "c138158b",
   "metadata": {},
   "outputs": [],
   "source": [
    "import os\n",
    "from langchain_openai import ChatOpenAI\n",
    "\n",
    "load_dotenv(dotenv_path=r\"C:\\Users\\hasan\\Rafi_SAA\\python_practices\\LLM_Langchain\\llm_openai\\.env\")\n",
    "\n",
    "chat = ChatOpenAI(\n",
    "    model=\"gpt-4o\",\n",
    "    openai_api_key=os.getenv(\"GPT_github_access_token\"),  \n",
    ")\n"
   ]
  },
  {
   "cell_type": "code",
   "execution_count": 47,
   "id": "5bb53c58",
   "metadata": {},
   "outputs": [
    {
     "data": {
      "text/plain": [
       "ChatOpenAI(client=<openai.resources.chat.completions.completions.Completions object at 0x0000018BD94A7190>, async_client=<openai.resources.chat.completions.completions.AsyncCompletions object at 0x0000018BD8601C50>, root_client=<openai.OpenAI object at 0x0000018BD8E16250>, root_async_client=<openai.AsyncOpenAI object at 0x0000018BD94EFD90>, model_name='gpt-4o', model_kwargs={}, openai_api_key=SecretStr('**********'), stream_usage=True)"
      ]
     },
     "execution_count": 47,
     "metadata": {},
     "output_type": "execute_result"
    }
   ],
   "source": [
    "chat"
   ]
  },
  {
   "cell_type": "code",
   "execution_count": null,
   "id": "57fccab8",
   "metadata": {},
   "outputs": [],
   "source": [
    "template_string = \"You are a helpful assistant that translates {input_language} to {output_language}.\""
   ]
  },
  {
   "cell_type": "code",
   "execution_count": null,
   "id": "8be7afb7",
   "metadata": {},
   "outputs": [],
   "source": []
  },
  {
   "cell_type": "code",
   "execution_count": null,
   "id": "e425dce6",
   "metadata": {
    "vscode": {
     "languageId": "go"
    }
   },
   "outputs": [],
   "source": [
    "chat = ChatOpenAI(\n",
    "    model=\"openai/gpt-4o\",\n",
    "    openai_api_key=os.getenv(\"GPT_github_access_token\"),\n",
    "    openai_api_base=\"https://models.github.ai/inference\"\n",
    ")\n"
   ]
  },
  {
   "cell_type": "code",
   "execution_count": null,
   "id": "2c159d0d",
   "metadata": {},
   "outputs": [],
   "source": []
  }
 ],
 "metadata": {
  "kernelspec": {
   "display_name": "llm_openai",
   "language": "python",
   "name": "python3"
  },
  "language_info": {
   "codemirror_mode": {
    "name": "ipython",
    "version": 3
   },
   "file_extension": ".py",
   "mimetype": "text/x-python",
   "name": "python",
   "nbconvert_exporter": "python",
   "pygments_lexer": "ipython3",
   "version": "3.11.9"
  }
 },
 "nbformat": 4,
 "nbformat_minor": 5
}
