{
 "cells": [
  {
   "cell_type": "markdown",
   "id": "1dd6eb74",
   "metadata": {},
   "source": [
    "Prompts\n"
   ]
  },
  {
   "cell_type": "code",
   "execution_count": 1,
   "id": "af9f8768",
   "metadata": {},
   "outputs": [
    {
     "name": "stdout",
     "output_type": "stream",
     "text": [
      "helloo\n"
     ]
    }
   ],
   "source": [
    "print(\"helloo\")"
   ]
  },
  {
   "cell_type": "code",
   "execution_count": 3,
   "id": "a5241888",
   "metadata": {},
   "outputs": [],
   "source": [
    "import openai   \n",
    "import os\n",
    "\n",
    "from dotenv import load_dotenv, find_dotenv\n",
    "_ = load_dotenv(find_dotenv()) # read local .env file\n",
    "openai.api_key  = os.getenv(\"OPENAI_API_KEY\")"
   ]
  },
  {
   "cell_type": "markdown",
   "id": "5b57a4bb",
   "metadata": {},
   "source": [
    "Helper function for promt"
   ]
  },
  {
   "cell_type": "code",
   "execution_count": null,
   "id": "dc51bbf5",
   "metadata": {},
   "outputs": [],
   "source": [
    "def get_completion(prompt, model =\"gpt-3.5-turbo\"):\n",
    "    messages = [{\"role\":\"user\", \"content\":prompt}]\n",
    "    response = openai.chatCompletion.create(\n",
    "        model = model,\n",
    "        message = messages,\n",
    "        temperature = 0,\n",
    "    )\n",
    "    return response.choice[0].message[\"content\"]"
   ]
  }
 ],
 "metadata": {
  "kernelspec": {
   "display_name": "llm_openai",
   "language": "python",
   "name": "python3"
  },
  "language_info": {
   "codemirror_mode": {
    "name": "ipython",
    "version": 3
   },
   "file_extension": ".py",
   "mimetype": "text/x-python",
   "name": "python",
   "nbconvert_exporter": "python",
   "pygments_lexer": "ipython3",
   "version": "3.11.9"
  }
 },
 "nbformat": 4,
 "nbformat_minor": 5
}
